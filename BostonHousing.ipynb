{
 "cells": [
  {
   "cell_type": "markdown",
   "id": "9ae8d491",
   "metadata": {},
   "source": [
    "Exploring the data"
   ]
  },
  {
   "cell_type": "code",
   "execution_count": 2,
   "id": "0d292a8c",
   "metadata": {},
   "outputs": [
    {
     "name": "stdout",
     "output_type": "stream",
     "text": [
      "Index(['CRIM', 'ZN', 'INDUS', 'CHAS', 'NOX', 'RM', 'AGE', 'DIS', 'RAD', 'TAX',\n",
      "       'PTRATIO', 'B', 'LSTAT', 'MEDV'],\n",
      "      dtype='object')\n",
      "<bound method NDFrame.head of         CRIM    ZN  INDUS  CHAS    NOX     RM   AGE     DIS  RAD  TAX  \\\n",
      "0    0.00632  18.0   2.31     0  0.538  6.575  65.2  4.0900    1  296   \n",
      "1    0.02731   0.0   7.07     0  0.469  6.421  78.9  4.9671    2  242   \n",
      "2    0.02729   0.0   7.07     0  0.469  7.185  61.1  4.9671    2  242   \n",
      "3    0.03237   0.0   2.18     0  0.458  6.998  45.8  6.0622    3  222   \n",
      "4    0.06905   0.0   2.18     0  0.458  7.147  54.2  6.0622    3  222   \n",
      "..       ...   ...    ...   ...    ...    ...   ...     ...  ...  ...   \n",
      "501  0.06263   0.0  11.93     0  0.573  6.593  69.1  2.4786    1  273   \n",
      "502  0.04527   0.0  11.93     0  0.573  6.120  76.7  2.2875    1  273   \n",
      "503  0.06076   0.0  11.93     0  0.573  6.976  91.0  2.1675    1  273   \n",
      "504  0.10959   0.0  11.93     0  0.573  6.794  89.3  2.3889    1  273   \n",
      "505  0.04741   0.0  11.93     0  0.573  6.030  80.8  2.5050    1  273   \n",
      "\n",
      "     PTRATIO       B  LSTAT  MEDV  \n",
      "0       15.3  396.90   4.98  24.0  \n",
      "1       17.8  396.90   9.14  21.6  \n",
      "2       17.8  392.83   4.03  34.7  \n",
      "3       18.7  394.63   2.94  33.4  \n",
      "4       18.7  396.90   5.33  36.2  \n",
      "..       ...     ...    ...   ...  \n",
      "501     21.0  391.99   9.67  22.4  \n",
      "502     21.0  396.90   9.08  20.6  \n",
      "503     21.0  396.90   5.64  23.9  \n",
      "504     21.0  393.45   6.48  22.0  \n",
      "505     21.0  396.90   7.88  11.9  \n",
      "\n",
      "[506 rows x 14 columns]>\n"
     ]
    }
   ],
   "source": [
    "#import packages\n",
    "\n",
    "import numpy as np\n",
    "import math\n",
    "import pandas as pd\n",
    "import seaborn as sns\n",
    "from statsmodels.stats.anova import anova_lm\n",
    "from sklearn.preprocessing import StandardScaler\n",
    "import scipy.stats as ss\n",
    "import matplotlib.pyplot as plt\n",
    "import statsmodels.api as sm  #Regression\n",
    "\n",
    "## Use inline magic command so plots appear in the data frame\n",
    "%matplotlib inline\n",
    "\n",
    "#import data\n",
    "BostonDF = pd.read_csv('C:\\\\Users\\Owner\\Documents\\DataScience\\BostonHousing.csv')\n",
    "\n",
    "print(BostonDF.columns)\n",
    "print(BostonDF.head)\n"
   ]
  },
  {
   "cell_type": "markdown",
   "id": "b6b50686",
   "metadata": {},
   "source": [
    "1.\t##Choose a variable other than CHAS and MEDV (the target, median home price).Room (RM), I choose you!"
   ]
  },
  {
   "cell_type": "markdown",
   "id": "67f1f5b3",
   "metadata": {},
   "source": [
    "a. Compute the mean and standard deviation of the variable."
   ]
  },
  {
   "cell_type": "code",
   "execution_count": 3,
   "id": "91f78607",
   "metadata": {},
   "outputs": [
    {
     "data": {
      "text/plain": [
       "count    506.000000\n",
       "mean       6.284634\n",
       "std        0.702617\n",
       "min        3.561000\n",
       "25%        5.885500\n",
       "50%        6.208500\n",
       "75%        6.623500\n",
       "max        8.780000\n",
       "Name: RM, dtype: float64"
      ]
     },
     "execution_count": 3,
     "metadata": {},
     "output_type": "execute_result"
    }
   ],
   "source": [
    "#Compute statistics of variable, RM\n",
    "BostonDF['RM'].describe()"
   ]
  },
  {
   "cell_type": "markdown",
   "id": "52ff3467",
   "metadata": {},
   "source": [
    "b.\tPlot a histogram of the variable."
   ]
  },
  {
   "cell_type": "code",
   "execution_count": 4,
   "id": "fec21a68",
   "metadata": {},
   "outputs": [
    {
     "data": {
      "text/plain": [
       "SkewtestResult(statistic=3.6165514870123805, pvalue=0.0002985539551619877)"
      ]
     },
     "execution_count": 4,
     "metadata": {},
     "output_type": "execute_result"
    },
    {
     "data": {
      "image/png": "[encoded data removed]",
      "text/plain": [
       "<Figure size 432x288 with 1 Axes>"
      ]
     },
     "metadata": {
      "needs_background": "light"
     },
     "output_type": "display_data"
    }
   ],
   "source": [
    "import matplotlib.pyplot as plt\n",
    "from scipy import stats\n",
    "\n",
    "plt.hist(BostonDF['RM'], bins = 20)\n",
    "plt.title('Frequency of number of Rooms')\n",
    "plt.xlabel('Number of Rooms per house')\n",
    "plt.ylabel('Frequency')\n",
    "skew = ss.skewtest(BostonDF.RM)\n",
    "skew"
   ]
  },
  {
   "cell_type": "markdown",
   "id": "481d6ad4",
   "metadata": {},
   "source": [
    "c.\tWhat is the sample correlation between your chosen variable and median home price?"
   ]
  },
  {
   "cell_type": "code",
   "execution_count": 5,
   "id": "7b5e0d92",
   "metadata": {},
   "outputs": [
    {
     "name": "stdout",
     "output_type": "stream",
     "text": [
      "0.695\n"
     ]
    },
    {
     "data": {
      "text/plain": [
       "(array([0.5, 1.5]), [Text(0.5, 0, 'RM'), Text(1.5, 0, 'MEDV')])"
      ]
     },
     "execution_count": 5,
     "metadata": {},
     "output_type": "execute_result"
    },
    {
     "data": {
      "image/png": "[encoded data removed]",
      "text/plain": [
       "<Figure size 432x288 with 2 Axes>"
      ]
     },
     "metadata": {
      "needs_background": "light"
     },
     "output_type": "display_data"
    }
   ],
   "source": [
    "corr_mat = BostonDF[['RM', 'MEDV']].corr().round(3)\n",
    "print(corr_mat.iloc[1,0].round(3))\n",
    "\n",
    "#correlation matrix heatmap, cause why not?\n",
    "sns.heatmap(corr_mat, vmax=1.0) \n",
    "plt.title('Correlation matrix for Rooms vs Median Price')\n",
    "plt.yticks(rotation='horizontal')\n",
    "plt.xticks(rotation='vertical')"
   ]
  },
  {
   "cell_type": "markdown",
   "id": "475ee868",
   "metadata": {},
   "source": [
    "d.\tPerform a regression, predicting MEDV from your chosen variable.\n"
   ]
  },
  {
   "cell_type": "code",
   "execution_count": 6,
   "id": "16f729d7",
   "metadata": {},
   "outputs": [
    {
     "name": "stdout",
     "output_type": "stream",
     "text": [
      "                            OLS Regression Results                            \n",
      "==============================================================================\n",
      "Dep. Variable:                   MEDV   R-squared:                       0.484\n",
      "Model:                            OLS   Adj. R-squared:                  0.483\n",
      "Method:                 Least Squares   F-statistic:                     471.8\n",
      "Date:                Mon, 30 Aug 2021   Prob (F-statistic):           2.49e-74\n",
      "Time:                        18:23:29   Log-Likelihood:                -1673.1\n",
      "No. Observations:                 506   AIC:                             3350.\n",
      "Df Residuals:                     504   BIC:                             3359.\n",
      "Df Model:                           1                                         \n",
      "Covariance Type:            nonrobust                                         \n",
      "==============================================================================\n",
      "                 coef    std err          t      P>|t|      [0.025      0.975]\n",
      "------------------------------------------------------------------------------\n",
      "RM             9.1021      0.419     21.722      0.000       8.279       9.925\n",
      "const        -34.6706      2.650    -13.084      0.000     -39.877     -29.465\n",
      "==============================================================================\n",
      "Omnibus:                      102.585   Durbin-Watson:                   0.684\n",
      "Prob(Omnibus):                  0.000   Jarque-Bera (JB):              612.449\n",
      "Skew:                           0.726   Prob(JB):                    1.02e-133\n",
      "Kurtosis:                       8.190   Cond. No.                         58.4\n",
      "==============================================================================\n",
      "\n",
      "Notes:\n",
      "[1] Standard Errors assume that the covariance matrix of the errors is correctly specified.\n"
     ]
    },
    {
     "data": {
      "text/plain": [
       "Text(0.5, 1.0, 'Relationship between RM and Price')"
      ]
     },
     "execution_count": 6,
     "metadata": {},
     "output_type": "execute_result"
    },
    {
     "data": {
      "image/png": "[encoded data removed]",
      "text/plain": [
       "<Figure size 432x288 with 1 Axes>"
      ]
     },
     "metadata": {
      "needs_background": "light"
     },
     "output_type": "display_data"
    }
   ],
   "source": [
    "## Add a constant term to the array of predictors to get an intercept term\n",
    "predictors = sm.add_constant(BostonDF.RM, prepend = False)\n",
    "\n",
    "lm_mod = sm.OLS(BostonDF.MEDV, predictors)\n",
    "res = lm_mod.fit()\n",
    "print(res.summary())\n",
    "\n",
    "#print scatter plot of RM and MEDV\n",
    "sns.regplot(y=\"MEDV\", x=\"RM\", data=BostonDF, fit_reg = True)\n",
    "plt.title(\"Relationship between RM and Price\")"
   ]
  },
  {
   "cell_type": "markdown",
   "id": "7a378aac",
   "metadata": {},
   "source": [
    "2.\tYou have a theory that tracts that border the Charles River (CHAS) will have higher median price (MEDV or target) than those that do not."
   ]
  },
  {
   "cell_type": "markdown",
   "id": "91fac7e4",
   "metadata": {},
   "source": [
    "a.\tWhat is the null hypothesis?"
   ]
  },
  {
   "cell_type": "markdown",
   "id": "50afe1ac",
   "metadata": {},
   "source": [
    "(in a statistical test) the hypothesis that there is no significant difference between specified populations, any observed difference being due to sampling or experimental error"
   ]
  },
  {
   "cell_type": "markdown",
   "id": "362d9079",
   "metadata": {},
   "source": [
    "b.\tCalculate the p-value. Use the sample mean of the target as an estimate of the population mean."
   ]
  },
  {
   "cell_type": "code",
   "execution_count": 7,
   "id": "46c99740",
   "metadata": {},
   "outputs": [
    {
     "name": "stdout",
     "output_type": "stream",
     "text": [
      "CHAS\n",
      "0    22.093843\n",
      "1    28.440000\n",
      "Name: MEDV, dtype: float64\n"
     ]
    }
   ],
   "source": [
    "##BostonDF.groupby(['RM','CHAS']).mean()\n",
    "\n",
    "MEDVC = BostonDF.groupby('CHAS')['MEDV'].mean()  ##MEDV mean based on CHAS\n",
    "print(MEDVC)\n",
    "\n"
   ]
  },
  {
   "cell_type": "code",
   "execution_count": 8,
   "id": "f58c769a",
   "metadata": {},
   "outputs": [
    {
     "name": "stdout",
     "output_type": "stream",
     "text": [
      "Results of one-sample two-sided t test\n",
      "Mean         = 28.440\n",
      "t-Statistic  = 55.111\n",
      "p-value      < 9.371e-216\n",
      "On degrees of freedom =  505\n",
      "Confidence Intervals for alpha =0.1\n",
      "Lower =  27.938 Upper = 28.942\n"
     ]
    }
   ],
   "source": [
    "from scipy import stats\n",
    "def t_one_sample(samp, mu = 0.0, alpha = 0.1):\n",
    "    '''Function for two-sided one-sample t test'''\n",
    "    t_stat = stats.ttest_1samp(samp, mu)\n",
    "    scale = np.std(samp)\n",
    "    loc = 28.44\n",
    "    ci = stats.t.cdf(alpha/2, len(samp), loc=mu, scale=scale)\n",
    "    print('Results of one-sample two-sided t test')\n",
    "    print('Mean         = %4.3f' % loc)\n",
    "    print('t-Statistic  = %4.3f' % t_stat[0])\n",
    "    print('p-value      < %4.3e' % t_stat[1])\n",
    "    print('On degrees of freedom = %4d' % (len(samp) - 1))\n",
    "    print('Confidence Intervals for alpha =' + str(alpha))\n",
    "    print('Lower =  %4.3f Upper = %4.3f' % (loc - ci, loc + ci))\n",
    "    \n",
    "t_one_sample(BostonDF.MEDV)  "
   ]
  },
  {
   "cell_type": "markdown",
   "id": "110eb443",
   "metadata": {},
   "source": [
    "c.\tWhat is the 90% confidence interval for the target (price) of tracts that border the Charles River? **Above**"
   ]
  },
  {
   "cell_type": "markdown",
   "id": "dce37a8b",
   "metadata": {},
   "source": [
    "d.\tAssume an effect size (Cohen’s d) of 0.6. If you want 80% power, what group size is necessary?"
   ]
  },
  {
   "cell_type": "code",
   "execution_count": 9,
   "id": "7e90eab4",
   "metadata": {},
   "outputs": [
    {
     "data": {
      "text/plain": [
       "44.5857902590805"
      ]
     },
     "execution_count": 9,
     "metadata": {},
     "output_type": "execute_result"
    }
   ],
   "source": [
    "from statsmodels.stats.power import tt_ind_solve_power\n",
    "tt_ind_solve_power(effect_size=.6, nobs1 = None, alpha=0.05, power=0.8, ratio=1, alternative='two-sided')"
   ]
  },
  {
   "cell_type": "markdown",
   "id": "09cddf29",
   "metadata": {},
   "source": [
    "3.\tImagine you are the city planner of Boston and can add various new features to each census tract, such as a park. Be creative with your new “features” – we use the term loosely. You can assume that none of the tracts contained your features previously. Design an experiment to explore the effects of these features on the media house price in census tracts. You should include an explanation of the experimental design as well as a plan of analysis, which should include a discussion of group size and power. Be sure to apply the knowledge you learned in the Data Science Research Methods courses."
   ]
  },
  {
   "cell_type": "markdown",
   "id": "00a76b2e",
   "metadata": {},
   "source": [
    "The new feature I propose to add in the area would be \n",
    "<br>1)\tScooter/Bike path and scooter/bike stations\n",
    "\n",
    "<br>Overall Experiment plan:\n",
    " 1)\tThe Research process\n",
    ">   a) Goals of research is to determine the following:\n",
    "<br>       i)\tIf residents would like an added path and scooters and bikes\n",
    "<br>       ii)\tHow much path to put?\n",
    "<br>      iii)\tHow wide? Material?\n",
    "<br>       iv)\tWhere to put path?\n",
    "\n",
    "  b)\tClarifying questions\n",
    "> <br> >  i)\tQuantify survey questions on Likert Scale\n",
    "<br>       ii)\tEx: How often would you use path (1-5)? How far your commute is?\n",
    "\n",
    "c)\tPsychology of data\n",
    "> <br>        i)\tPhrase and ask questions to reduce bias \n",
    "  <br>     ii)\tEx: leading questions, double barrel, Jargon, double negatives, loaded questions\n",
    "\n",
    "<br>  2)\tPlanning for analysis\n",
    "    a)\tSample vs population\n",
    ">        i)\tDetermine sample size for 80% power\n"
   ]
  },
  {
   "cell_type": "code",
   "execution_count": 1,
   "id": "0cd0fd35",
   "metadata": {},
   "outputs": [],
   "source": [
    "#from statsmodels.stats.power import tt_ind_solve_power\n",
    "#tt_ind_solve_power(effect_size=.6, nobs1 = None, alpha=0.05, power=0.8, ratio=1, alternative='two-sided')"
   ]
  },
  {
   "cell_type": "markdown",
   "id": "639ccfac",
   "metadata": {},
   "source": [
    "\n",
    "    b)\tDiscrediting null hypothesis\n",
    "        i)\tNull hypothesis would be that adding the path, scooters, and bikes will not raise median price\n",
    "    ii)\tWill test by adding the feature “distance to path/scooter on next census or path use\n",
    "\n",
    "3)\tCorrelation and experimental design\n",
    "    a)\tCorrelate with MEDV\n"
   ]
  },
  {
   "cell_type": "code",
   "execution_count": null,
   "id": "4bb085fc",
   "metadata": {},
   "outputs": [],
   "source": []
  }
 ],
 "metadata": {
  "kernelspec": {
   "display_name": "Python 3 (ipykernel)",
   "language": "python",
   "name": "python3"
  },
  "language_info": {
   "codemirror_mode": {
    "name": "ipython",
    "version": 3
   },
   "file_extension": ".py",
   "mimetype": "text/x-python",
   "name": "python",
   "nbconvert_exporter": "python",
   "pygments_lexer": "ipython3",
   "version": "3.9.7"
  }
 },
 "nbformat": 4,
 "nbformat_minor": 5
}
